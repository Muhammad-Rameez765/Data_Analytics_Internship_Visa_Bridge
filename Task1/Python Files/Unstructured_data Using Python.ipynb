{
 "cells": [
  {
   "cell_type": "code",
   "execution_count": 1,
   "id": "69a3ce5b-2c7f-471c-9459-7a26af52d6c3",
   "metadata": {},
   "outputs": [],
   "source": [
    "import pandas as pd\n",
    "import numpy as np\n",
    "from faker import Faker\n",
    "import random\n"
   ]
  },
  {
   "cell_type": "code",
   "execution_count": 2,
   "id": "bee44b27-a650-4b7e-b817-91b6b71c81b3",
   "metadata": {},
   "outputs": [],
   "source": [
    "fake = Faker()"
   ]
  },
  {
   "cell_type": "code",
   "execution_count": 3,
   "id": "f24cd60b-dee1-4296-844f-6b9fdb0d5be7",
   "metadata": {},
   "outputs": [],
   "source": [
    "\n",
    "# Generate 10,000 unique customer IDs\n",
    "customer_ids = [f'C{str(i).zfill(5)}' for i in range(1, 10001)]\n",
    "store_ids = [f'S{str(i).zfill(3)}' for i in range(1, 51)]\n",
    "categories = ['Electronics', 'Clothing', 'Home', 'Toys', 'Beauty']"
   ]
  },
  {
   "cell_type": "code",
   "execution_count": 4,
   "id": "ded73457-9ce2-431a-ba03-a369c358d29e",
   "metadata": {},
   "outputs": [],
   "source": [
    "transactions = []\n",
    "for i in range(50000):\n",
    "    cust_id = random.choice(customer_ids)\n",
    "    trans_id = f'T{100000 + i}'\n",
    "    date = fake.date_between(start_date='-2y', end_date='today')\n",
    "    # Randomly introduce inconsistent formats\n",
    "    date_str = date.strftime('%m/%d/%Y') if random.random() > 0.5 else date.strftime('%Y-%m-%d')\n",
    "    store = random.choice(store_ids)\n",
    "    category = random.choice(categories)\n",
    "    amount = round(np.random.normal(100, 50), 2)\n",
    "    amount = np.nan if random.random() < 0.05 else max(5, amount)  # 5% missing\n",
    "    quantity = np.random.randint(1, 5)\n",
    "    if random.random() < 0.02:  # 2% outliers\n",
    "        quantity = np.random.randint(10, 100)\n",
    "    discount = random.choice([0, 5, 10, 15, 20])\n",
    "\n",
    "    transactions.append([cust_id, trans_id, date_str, store, category, amount, quantity, discount])"
   ]
  },
  {
   "cell_type": "code",
   "execution_count": 5,
   "id": "988e75ee-7a14-4a67-a3a5-d8b8f85512fb",
   "metadata": {},
   "outputs": [],
   "source": [
    "df_transactions = pd.DataFrame(transactions, columns=[\n",
    "    'CustomerID', 'TransactionID', 'Date', 'StoreID', 'ProductCategory',\n",
    "    'AmountSpent', 'Quantity', 'DiscountApplied'\n",
    "])"
   ]
  },
  {
   "cell_type": "code",
   "execution_count": null,
   "id": "fb71b456-2769-4d16-b8ae-f6155a9af577",
   "metadata": {},
   "outputs": [],
   "source": [
    "\n",
    "\n"
   ]
  },
  {
   "cell_type": "code",
   "execution_count": 6,
   "id": "d2467cdf-0cdd-418b-a4c0-ba1ebd4389eb",
   "metadata": {},
   "outputs": [],
   "source": [
    "genders = ['M', 'Male', 'male', 'F', 'Female', 'female']\n",
    "income_levels = ['Low', 'Medium', 'High']"
   ]
  },
  {
   "cell_type": "code",
   "execution_count": 7,
   "id": "75493ef8-baf3-4c9f-993c-1013a904ad7e",
   "metadata": {},
   "outputs": [],
   "source": [
    "demographics = []\n",
    "for cust_id in customer_ids:\n",
    "    age = np.random.randint(18, 70)\n",
    "    gender = random.choice(genders)\n",
    "    income = random.choice(income_levels) if random.random() > 0.1 else np.nan  # 10% missing\n",
    "    loyalty = random.choice(['Y', 'N'])\n",
    "    zip_code = fake.zipcode()\n",
    "\n",
    "    demographics.append([cust_id, age, gender, income, loyalty, zip_code])"
   ]
  },
  {
   "cell_type": "code",
   "execution_count": 8,
   "id": "2b9800d5-d9c0-4c35-803e-df1cf6088daf",
   "metadata": {},
   "outputs": [],
   "source": [
    "df_demographics = pd.DataFrame(demographics, columns=[\n",
    "    'CustomerID', 'Age', 'Gender', 'IncomeLevel', 'LoyaltyMember', 'ZipCode'\n",
    "])"
   ]
  },
  {
   "cell_type": "code",
   "execution_count": null,
   "id": "8baac867-2582-41d5-961b-aa5cda7c607d",
   "metadata": {},
   "outputs": [],
   "source": [
    "\n",
    "\n"
   ]
  },
  {
   "cell_type": "code",
   "execution_count": 9,
   "id": "b98867d9-4ca9-4fbc-96a8-16c9822efafe",
   "metadata": {},
   "outputs": [],
   "source": [
    "regions = ['East', 'West', 'Midwest', 'South']\n",
    "urban_rural = ['Urban', 'Suburban', 'Rural']"
   ]
  },
  {
   "cell_type": "code",
   "execution_count": 10,
   "id": "134e7d42-9958-4097-9571-3b244ed4353b",
   "metadata": {},
   "outputs": [],
   "source": [
    "stores = []\n",
    "for store_id in store_ids:\n",
    "    region = random.choice(regions)\n",
    "    size = np.random.normal(20000, 5000)\n",
    "    if random.random() < 0.05:  # 5% chance of being a very large store\n",
    "        size = np.random.normal(100000, 10000)\n",
    "    area_type = random.choice(urban_rural)\n",
    "\n",
    "    stores.append([store_id, region, abs(int(size)), area_type])"
   ]
  },
  {
   "cell_type": "code",
   "execution_count": 11,
   "id": "2a1258d7-869f-4c4e-b2c2-4286c1ec943b",
   "metadata": {},
   "outputs": [],
   "source": [
    "df_stores = pd.DataFrame(stores, columns=[\n",
    "    'StoreID', 'Region', 'StoreSize', 'UrbanRural'\n",
    "])"
   ]
  },
  {
   "cell_type": "code",
   "execution_count": null,
   "id": "446e4c09-418b-4993-85cf-62a803c7636f",
   "metadata": {},
   "outputs": [],
   "source": [
    "\n",
    "\n"
   ]
  },
  {
   "cell_type": "code",
   "execution_count": 14,
   "id": "0a4f9ac1-40fe-4551-912f-0099ae392e45",
   "metadata": {},
   "outputs": [],
   "source": [
    "df_transactions.to_csv('mock_transactions.csv', index=False)\n",
    "df_demographics.to_csv('mock_demographics.csv', index=False)\n",
    "df_stores.to_csv('mock_stores.csv', index=False)"
   ]
  },
  {
   "cell_type": "code",
   "execution_count": 13,
   "id": "9ef97a5e-15ed-4ab3-913f-c388c4ed7b75",
   "metadata": {},
   "outputs": [
    {
     "name": "stdout",
     "output_type": "stream",
     "text": [
      "Datasets created and saved as CSV files.\n"
     ]
    }
   ],
   "source": [
    "print(\"Datasets created and saved as CSV files.\")"
   ]
  },
  {
   "cell_type": "code",
   "execution_count": null,
   "id": "df0342d6-1a56-43b4-b0ac-ef4bae5209c8",
   "metadata": {},
   "outputs": [],
   "source": []
  }
 ],
 "metadata": {
  "kernelspec": {
   "display_name": "base",
   "language": "python",
   "name": "python3"
  },
  "language_info": {
   "codemirror_mode": {
    "name": "ipython",
    "version": 3
   },
   "file_extension": ".py",
   "mimetype": "text/x-python",
   "name": "python",
   "nbconvert_exporter": "python",
   "pygments_lexer": "ipython3",
   "version": "3.12.7"
  }
 },
 "nbformat": 4,
 "nbformat_minor": 5
}
